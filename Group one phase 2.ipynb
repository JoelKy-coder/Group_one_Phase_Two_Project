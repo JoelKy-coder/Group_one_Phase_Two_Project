{
  "cells": [
    {
      "cell_type": "markdown",
      "metadata": {
        "id": "6GWMgCMr12Nt"
      },
      "source": [
        "Group one\n",
        "Joel Kioko\n",
        "Immaculate Kimani\n",
        "Neema Gatonye\n",
        "Patience Severino\n",
        "Chepkwony Jjoy\n",
        "George Ikuro"
      ]
    },
    {
      "cell_type": "markdown",
      "metadata": {
        "id": "_13SBTA412Nw"
      },
      "source": [
        "# Project Overview\n",
        "\n",
        "This project aims to explore key trends in the movie industry, including genres, themes, and audience preferences that are driving box office performance."
      ]
    },
    {
      "cell_type": "markdown",
      "metadata": {
        "id": "Yyffks0L12Nx"
      },
      "source": [
        "# **1. Business Understanding**\n",
        "\n",
        "As the company ventures into the movie busness it is important to understand the key trends in the industry. These insights will help guide strategic decisions and ensure the new movie studio produces films that resonate with audiences and maximize profitability.\n",
        "\n",
        "####Hypothesis\n",
        "Ho: There is no significant difference in revenue over number of votes\n",
        "\n",
        "H1 :There is a significant difference in revenue over number of votes.\n",
        "\n",
        "\n",
        "\n",
        "#### Objectives\n",
        "* To indentify the effect of ratings across different genres.\n",
        "* To determine the genres that generates highest revenue/profit.\n",
        "* To indentify the trends in revenue generation.\n",
        "\n",
        "\n",
        "\n"
      ]
    },
    {
      "cell_type": "markdown",
      "metadata": {
        "id": "KQZrD7S212N0"
      },
      "source": [
        "**2. Data Understanding**"
      ]
    },
    {
      "cell_type": "markdown",
      "metadata": {
        "id": "oMStyYTW12N1"
      },
      "source": []
    },
    {
      "cell_type": "markdown",
      "metadata": {
        "id": "tsO-ZQgw12N2"
      },
      "source": [
        "**3. Data Preparation.**\n",
        "* **Preprocesing.**"
      ]
    },
    {
      "cell_type": "markdown",
      "metadata": {
        "id": "vcLiyIov12N3"
      },
      "source": []
    },
    {
      "cell_type": "markdown",
      "metadata": {
        "id": "SXKr1bRP12N3"
      },
      "source": [
        "* **Merging**"
      ]
    },
    {
      "cell_type": "markdown",
      "metadata": {
        "id": "SsizzMtQ12N4"
      },
      "source": []
    },
    {
      "cell_type": "markdown",
      "metadata": {
        "id": "kUdIxxZj12N5"
      },
      "source": [
        "* **Feature Engineering.**"
      ]
    },
    {
      "cell_type": "markdown",
      "metadata": {
        "id": "i8B5YPIw12N5"
      },
      "source": []
    },
    {
      "cell_type": "markdown",
      "metadata": {
        "id": "5Ep7TT7X12N6"
      },
      "source": [
        "**4. Modelling/Statistical analysis**"
      ]
    },
    {
      "cell_type": "markdown",
      "metadata": {
        "id": "thALOHFA12N6"
      },
      "source": []
    },
    {
      "cell_type": "markdown",
      "metadata": {
        "id": "eY5yIuD212N7"
      },
      "source": [
        "**5. Recommendations and Conclusion**"
      ]
    },
    {
      "cell_type": "markdown",
      "metadata": {
        "id": "CziNIPu_12N7"
      },
      "source": []
    }
  ],
  "metadata": {
    "kernelspec": {
      "display_name": "learn-env",
      "language": "python",
      "name": "python3"
    },
    "language_info": {
      "name": "python",
      "version": "3.8.5"
    },
    "colab": {
      "provenance": []
    }
  },
  "nbformat": 4,
  "nbformat_minor": 0
}