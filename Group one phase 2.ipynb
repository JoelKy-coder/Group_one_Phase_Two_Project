{
  "cells": [
    {
      "cell_type": "markdown",
      "metadata": {
        "id": "ikGRkL4G6uDV"
      },
      "source": [
        "#### Group one\n",
        "1. Joel Kioko\n",
        "2. Immaculate Kimani\n",
        "3. Neema Gatonye\n",
        "4. Patience Severino\n",
        "5. Chepkwony Jjoy\n",
        "6. George Ikuro"
      ]
    },
    {
      "cell_type": "markdown",
      "metadata": {
        "id": "2JiPmgxV6uDX"
      },
      "source": [
        "# Project Overview\n",
        "\n",
        "This project aims to explore key trends in the movie industry, including genres, themes, and audience preferences that are driving box office performance."
      ]
    },
    {
      "cell_type": "markdown",
      "metadata": {
        "id": "hrntojLy6uDX"
      },
      "source": [
        "# **1. Business Understanding**\n",
        "\n",
        "As the company ventures into the movie busness it is important to understand the key trends in the industry. These insights will help guide strategic decisions and ensure the new movie studio produces films that resonate with audiences and maximize profitability.\n",
        "\n",
        "####Hypothesis\n",
        "Ho: There is no significant difference in revenue over number of votes\n",
        "\n",
        "H1 :There is a significant difference in revenue over number of votes.\n",
        "\n",
        "\n",
        "\n",
        "#### Objectives\n",
        "* To indentify the effect of ratings across different genres.\n",
        "* To determine the genres that generates highest revenue/profit.\n",
        "* To indentify the trends in revenue generation.\n"
      ]
    },
    {
      "cell_type": "markdown",
      "metadata": {
        "id": "FNU0ADx86uDY"
      },
      "source": [
        "**2. Data Understanding**"
      ]
    },
    {
      "cell_type": "markdown",
      "metadata": {
        "id": "92Vqp7eb6uDY"
      },
      "source": []
    },
    {
      "cell_type": "markdown",
      "metadata": {
        "id": "k74c-DVz6uDY"
      },
      "source": [
        "**3. Data Preparation.**\n",
        "* **Preprocesing.**"
      ]
    },
    {
      "cell_type": "markdown",
      "metadata": {
        "id": "Z6iiFUxU6uDY"
      },
      "source": []
    },
    {
      "cell_type": "markdown",
      "metadata": {
        "id": "ec9Nha0K6uDY"
      },
      "source": [
        "* **Merging**"
      ]
    },
    {
      "cell_type": "markdown",
      "metadata": {
        "id": "JklGz37M6uDZ"
      },
      "source": []
    },
    {
      "cell_type": "markdown",
      "metadata": {
        "id": "sO1tGVVI6uDZ"
      },
      "source": [
        "* **Feature Engineering.**"
      ]
    },
    {
      "cell_type": "markdown",
      "metadata": {
        "id": "i55eLcNl6uDZ"
      },
      "source": []
    },
    {
      "cell_type": "markdown",
      "metadata": {
        "id": "9oaW2iDS6uDZ"
      },
      "source": [
        "**4. Modelling/Statistical analysis**"
      ]
    },
    {
      "cell_type": "markdown",
      "metadata": {
        "id": "doCQLcLF6uDZ"
      },
      "source": []
    },
    {
      "cell_type": "markdown",
      "metadata": {
        "id": "eO3pgOyv6uDZ"
      },
      "source": [
        "**5. Recommendations and Conclusion**"
      ]
    },
    {
      "cell_type": "markdown",
      "metadata": {
        "id": "EBw-oqKV6uDZ"
      },
      "source": []
    }
  ],
  "metadata": {
    "kernelspec": {
      "display_name": "Python 3",
      "language": "python",
      "name": "python3"
    },
    "language_info": {
      "codemirror_mode": {
        "name": "ipython",
        "version": 3
      },
      "file_extension": ".py",
      "mimetype": "text/x-python",
      "name": "python",
      "nbconvert_exporter": "python",
      "pygments_lexer": "ipython3",
      "version": "3.8.5"
    },
    "colab": {
      "provenance": []
    }
  },
  "nbformat": 4,
  "nbformat_minor": 0
}